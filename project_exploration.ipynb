{
 "cells": [
  {
   "cell_type": "code",
   "execution_count": null,
   "id": "485ea984-c2f2-4713-bf00-52c07a3bdb30",
   "metadata": {},
   "outputs": [],
   "source": [
    "# Cell 1: Data Fetching\n",
    "# This cell will fetch data\n",
    "# Get data from defeating enemies:\n",
    "# Such as loot. Weapons, armour, tools, etc."
   ]
  },
  {
   "cell_type": "code",
   "execution_count": null,
   "id": "19878506-9ec0-4a16-b67c-6f210ce79be1",
   "metadata": {},
   "outputs": [],
   "source": []
  },
  {
   "cell_type": "code",
   "execution_count": null,
   "id": "39957d55-8353-423f-824a-d5e92f3dc1b3",
   "metadata": {},
   "outputs": [],
   "source": [
    "# Cell 2: Data Processing\n",
    "# This cell will process the data we get from X\n",
    "# Ability to process the loot earned into our own inventory:\n",
    "# If looted tool from enemy, must be able to use/equip that tool."
   ]
  }
 ],
 "metadata": {
  "kernelspec": {
   "display_name": "Python 3 (ipykernel)",
   "language": "python",
   "name": "python3"
  },
  "language_info": {
   "codemirror_mode": {
    "name": "ipython",
    "version": 3
   },
   "file_extension": ".py",
   "mimetype": "text/x-python",
   "name": "python",
   "nbconvert_exporter": "python",
   "pygments_lexer": "ipython3",
   "version": "3.12.4"
  }
 },
 "nbformat": 4,
 "nbformat_minor": 5
}
